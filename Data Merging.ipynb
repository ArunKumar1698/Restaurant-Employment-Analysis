{
 "cells": [
  {
   "cell_type": "markdown",
   "id": "09bc9627",
   "metadata": {},
   "source": [
    "# todo: replace nan's with 0\n",
    "# todo: and do the calculation again\n",
    "\n",
    "and add the above to the caveat section. Here is a caveat based on missing/bad data"
   ]
  },
  {
   "cell_type": "code",
   "execution_count": 1,
   "id": "d7a6ef29",
   "metadata": {},
   "outputs": [
    {
     "name": "stderr",
     "output_type": "stream",
     "text": [
      "/var/folders/ql/2vqj8p0d1gq1gggdp2dycp5c0000gn/T/ipykernel_95530/1910333970.py:4: StaleDataWarning: CPI data is out of date. To accurately inflate to today's dollars, you must run `cpi.update()`.\n",
      "  import cpi\n"
     ]
    }
   ],
   "source": [
    "import pandas as pd\n",
    "import os\n",
    "import numpy as np\n",
    "import cpi"
   ]
  },
  {
   "cell_type": "code",
   "execution_count": 2,
   "id": "d262a67f",
   "metadata": {},
   "outputs": [],
   "source": [
    "pd.options.display.float_format = '{:,.2f}'.format"
   ]
  },
  {
   "cell_type": "code",
   "execution_count": 3,
   "id": "8f732c7d",
   "metadata": {},
   "outputs": [
    {
     "data": {
      "text/plain": [
       "'/Users/hashim/Library/Mobile Documents/com~apple~CloudDocs/ust/seis732-data stores and feature design/project'"
      ]
     },
     "execution_count": 3,
     "metadata": {},
     "output_type": "execute_result"
    }
   ],
   "source": [
    "os.getcwd()"
   ]
  },
  {
   "cell_type": "code",
   "execution_count": 4,
   "id": "b7b0add1",
   "metadata": {},
   "outputs": [
    {
     "name": "stderr",
     "output_type": "stream",
     "text": [
      "/opt/anaconda3/envs/py39/lib/python3.9/site-packages/openpyxl/styles/stylesheet.py:226: UserWarning: Workbook contains no default style, apply openpyxl's default\n",
      "  warn(\"Workbook contains no default style, apply openpyxl's default\")\n",
      "/opt/anaconda3/envs/py39/lib/python3.9/site-packages/openpyxl/styles/stylesheet.py:226: UserWarning: Workbook contains no default style, apply openpyxl's default\n",
      "  warn(\"Workbook contains no default style, apply openpyxl's default\")\n"
     ]
    }
   ],
   "source": [
    "df_employment = pd.read_csv('city_employment/mpls_zipcode_employment_summary.csv')\n",
    "df_flour = pd.read_excel('raw data/flour_midwest_avg_price_not_seasonally_adjusted.xlsx', skiprows=9)\n",
    "df_rice = pd.read_excel('raw data/rice_midwest_avg_price_not_seasonally_adjusted.xlsx', skiprows=9)"
   ]
  },
  {
   "cell_type": "markdown",
   "id": "9b9503f9",
   "metadata": {},
   "source": [
    "# NOTE: \n",
    "\n",
    "There is no data for 2001 for rice data. I am going to take the average of 2000 and 2002 and just add it in there"
   ]
  },
  {
   "cell_type": "code",
   "execution_count": 5,
   "id": "30d10d4b",
   "metadata": {},
   "outputs": [
    {
     "data": {
      "text/plain": [
       "0.4764166666666667"
      ]
     },
     "execution_count": 5,
     "metadata": {},
     "output_type": "execute_result"
    }
   ],
   "source": [
    "df_rice.loc[10:11].mean()['Jan':'Dec'].mean()"
   ]
  },
  {
   "cell_type": "code",
   "execution_count": 6,
   "id": "57e18b0e",
   "metadata": {},
   "outputs": [],
   "source": [
    "# New row data for the year 2001 with all months having a value of 0.476\n",
    "new_row = {'Year': 2001, 'Jan': 0.476, 'Feb': 0.476, 'Mar': 0.476, 'Apr': 0.476, 'May': 0.476, \n",
    "           'Jun': 0.476, 'Jul': 0.476, 'Aug': 0.476, 'Sep': 0.476, 'Oct': 0.476, 'Nov': 0.476, 'Dec': 0.476}"
   ]
  },
  {
   "cell_type": "code",
   "execution_count": 7,
   "id": "e1f65231",
   "metadata": {},
   "outputs": [],
   "source": [
    "df_rice = pd.concat([df_rice, pd.DataFrame([new_row])], ignore_index=True)"
   ]
  },
  {
   "cell_type": "code",
   "execution_count": 8,
   "id": "c8a75b69",
   "metadata": {},
   "outputs": [],
   "source": [
    "df_rice.sort_values('Year', inplace=True)\n",
    "df_rice.reset_index(drop=True, inplace=True)"
   ]
  },
  {
   "cell_type": "code",
   "execution_count": 9,
   "id": "3a4cefb1",
   "metadata": {},
   "outputs": [],
   "source": [
    "years = pd.Series(list(range(1990,2024)))"
   ]
  },
  {
   "cell_type": "code",
   "execution_count": 10,
   "id": "8d806315",
   "metadata": {},
   "outputs": [],
   "source": [
    "flour_avg_price = df_flour.T.loc['Jan':'Dec',].mean()\n",
    "rice_avg_price = df_rice.T.loc['Jan':'Dec', ].mean()"
   ]
  },
  {
   "cell_type": "code",
   "execution_count": 11,
   "id": "5da00ff7",
   "metadata": {},
   "outputs": [],
   "source": [
    "years.name = 'Year'\n",
    "flour_avg_price.name = 'Flour Avg Price per lb'\n",
    "rice_avg_price.name = 'Rice Avg Price per lb'"
   ]
  },
  {
   "cell_type": "code",
   "execution_count": 12,
   "id": "dade64a2",
   "metadata": {},
   "outputs": [],
   "source": [
    "df_avg_price = pd.concat([years, flour_avg_price, rice_avg_price],axis=1)"
   ]
  },
  {
   "cell_type": "code",
   "execution_count": 13,
   "id": "0010a636",
   "metadata": {},
   "outputs": [],
   "source": [
    "# #f_avg_price.apply(lambda x: cpi.inflate(x['Flour Avg Price per lb'], x['Year']), axis=1)\n",
    "# df_avg_price['Adjusted Flour Avg Price per lb'] = df_avg_price.apply(lambda x: cpi.inflate(x['Flour Avg Price per lb'], x['Year']), axis=1)\n",
    "# df_avg_price['Adjusted Rice Avg Price per lb'] = df_avg_price.apply(lambda x: cpi.inflate(x['Rice Avg Price per lb'], x['Year']), axis=1)"
   ]
  },
  {
   "cell_type": "code",
   "execution_count": 14,
   "id": "fc2665c9",
   "metadata": {},
   "outputs": [],
   "source": [
    "df_merged = pd.merge(df_employment, df_avg_price, on=['Year'], how='inner')"
   ]
  },
  {
   "cell_type": "markdown",
   "id": "196639de",
   "metadata": {},
   "source": [
    "## Feature Engineering\n",
    "\n",
    "Going to calculate number of food service jobs in each zip code by year. "
   ]
  },
  {
   "cell_type": "code",
   "execution_count": 15,
   "id": "63971415",
   "metadata": {},
   "outputs": [],
   "source": [
    "df_merged['% Food Service Jobs in Zip'] = df_merged['Employment for NAICS 722']/df_merged['Total Employment in Zipcode']\n",
    "df_merged['% Food Service Establishments in Zip'] = df_merged['Establishments for NAICS 722']/df_merged['Total Establishments in Zipcode']"
   ]
  },
  {
   "cell_type": "code",
   "execution_count": 16,
   "id": "08e88138",
   "metadata": {},
   "outputs": [],
   "source": [
    "df_merged = df_merged.sort_values(by=['Zipcode', 'Year']).reset_index(drop=True)"
   ]
  },
  {
   "cell_type": "markdown",
   "id": "76bc85a1",
   "metadata": {},
   "source": [
    "Also going to calculate the percentage yearly change for the below metrics"
   ]
  },
  {
   "cell_type": "code",
   "execution_count": 17,
   "id": "85c47668",
   "metadata": {},
   "outputs": [],
   "source": [
    "columns_to_calculate = [\n",
    "    'Total Employment in Zipcode', \n",
    "    'Total Establishments in Zipcode', \n",
    "    'Total Payroll in Zipcode', \n",
    "    'Employment for NAICS 722', \n",
    "    'Establishments for NAICS 722', \n",
    "    'Avg. Annual Wage for NAICS 722', \n",
    "    'Total Payroll for NAICS 722'\n",
    "]"
   ]
  },
  {
   "cell_type": "code",
   "execution_count": 18,
   "id": "84a6354c",
   "metadata": {},
   "outputs": [],
   "source": [
    "df_merged.fillna(0,inplace=True)"
   ]
  },
  {
   "cell_type": "code",
   "execution_count": 19,
   "id": "eb7bc351",
   "metadata": {},
   "outputs": [],
   "source": [
    "for column in columns_to_calculate:\n",
    "    df_merged[column + ' Yearly % Change'] = df_merged.groupby('Zipcode')[column].pct_change() * 1"
   ]
  },
  {
   "cell_type": "code",
   "execution_count": 20,
   "id": "0e6e14a6",
   "metadata": {},
   "outputs": [
    {
     "data": {
      "text/plain": [
       "['55401-04;15,54,87,88',\n",
       " '55405,08,16',\n",
       " '55406',\n",
       " '55407',\n",
       " '55409,10,19',\n",
       " '55411',\n",
       " '55412,30',\n",
       " '55413,18,21',\n",
       " '55414,55',\n",
       " '55417']"
      ]
     },
     "execution_count": 20,
     "metadata": {},
     "output_type": "execute_result"
    }
   ],
   "source": [
    "df_merged['Zipcode'].unique().tolist()"
   ]
  },
  {
   "cell_type": "markdown",
   "id": "beffe892",
   "metadata": {},
   "source": [
    "## Map Zipcode to neighborhood to join with `geojson` data\n",
    "\n",
    "Just Google'd the zip codes and found the relevant neighborhoods"
   ]
  },
  {
   "cell_type": "code",
   "execution_count": 21,
   "id": "c0138d67",
   "metadata": {},
   "outputs": [],
   "source": [
    "map_zipcode_to_neighborhood = {\n",
    "    '55401-04;15,54,87,88':'North Loop',\n",
    "    '55405,08,16': 'Lowry Hill',\n",
    "    '55406': 'Howe',\n",
    "    '55407': 'Powderhorn Park',\n",
    "    '55409,10,19': 'King Field',\n",
    "    '55411': 'Near - North',\n",
    "    '55412,30': 'Webber - Camden',\n",
    "    '55413,18,21': 'Beltrami',\n",
    "    '55414,55': 'University of Minnesota',\n",
    "    '55417': 'Wenonah'\n",
    "    \n",
    "}"
   ]
  },
  {
   "cell_type": "code",
   "execution_count": 22,
   "id": "3556bd81",
   "metadata": {},
   "outputs": [],
   "source": [
    "df_merged['Neighborhood'] = df_merged['Zipcode'].map(map_zipcode_to_neighborhood)"
   ]
  },
  {
   "cell_type": "code",
   "execution_count": 23,
   "id": "6fb08313",
   "metadata": {},
   "outputs": [],
   "source": [
    "df_merged.fillna(0,inplace=True)\n",
    "df_merged = df_merged.replace(np.inf, 1)"
   ]
  },
  {
   "cell_type": "code",
   "execution_count": 24,
   "id": "df823eff",
   "metadata": {},
   "outputs": [],
   "source": [
    "#df_merged.to_csv('employment_and_grocery_merged_updated.csv', index=False)"
   ]
  },
  {
   "cell_type": "code",
   "execution_count": 25,
   "id": "8c7836df",
   "metadata": {},
   "outputs": [],
   "source": [
    "df_merged['Adjusted Avg. Annual Wage for NAICS 722'] = df_merged.apply(lambda x: cpi.inflate(x['Avg. Annual Wage for NAICS 722'], x['Year']), axis=1)\n",
    "df_merged['Adjusted Flour Avg Price per lb'] = df_merged.apply(lambda x: cpi.inflate(x['Flour Avg Price per lb'], x['Year']), axis=1)\n",
    "df_merged['Adjusted Rice Avg Price per lb'] = df_merged.apply(lambda x: cpi.inflate(x['Rice Avg Price per lb'], x['Year']), axis=1)"
   ]
  },
  {
   "cell_type": "code",
   "execution_count": 26,
   "id": "2eaf2d75",
   "metadata": {},
   "outputs": [],
   "source": [
    "df_merged['Adjusted Avg. Annual Wage for NAICS 722 Yearly % Change'] = df_merged.groupby('Zipcode')['Adjusted Avg. Annual Wage for NAICS 722'].pct_change() * 1\n",
    "df_merged['Adjusted Avg. Flour Avg Price per lb Yearly % Change'] = df_merged.groupby('Zipcode')['Adjusted Flour Avg Price per lb'].pct_change() * 1\n",
    "df_merged['Adjusted Avg. Rice Avg Price per lb Yearly % Change'] = df_merged.groupby('Zipcode')['Adjusted Rice Avg Price per lb'].pct_change() * 1"
   ]
  },
  {
   "cell_type": "code",
   "execution_count": 27,
   "id": "806a2105",
   "metadata": {},
   "outputs": [],
   "source": [
    "df_merged['% Difference Avg. Wage NAICS 722 - Flour'] = df_merged['Adjusted Avg. Annual Wage for NAICS 722 Yearly % Change'] - df_merged['Adjusted Avg. Flour Avg Price per lb Yearly % Change']\n",
    "df_merged['% Difference Avg. Wage NAICS 722 - Rice'] = df_merged['Adjusted Avg. Annual Wage for NAICS 722 Yearly % Change'] - df_merged['Adjusted Avg. Rice Avg Price per lb Yearly % Change']"
   ]
  },
  {
   "cell_type": "code",
   "execution_count": 28,
   "id": "8af8dd63",
   "metadata": {},
   "outputs": [],
   "source": [
    "#df_merged.to_csv('employment_and_grocery_merged_updated.csv', index=False)"
   ]
  },
  {
   "cell_type": "code",
   "execution_count": null,
   "id": "7d66fe89",
   "metadata": {},
   "outputs": [],
   "source": []
  }
 ],
 "metadata": {
  "kernelspec": {
   "display_name": "Python 3 (ipykernel)",
   "language": "python",
   "name": "python3"
  },
  "language_info": {
   "codemirror_mode": {
    "name": "ipython",
    "version": 3
   },
   "file_extension": ".py",
   "mimetype": "text/x-python",
   "name": "python",
   "nbconvert_exporter": "python",
   "pygments_lexer": "ipython3",
   "version": "3.9.9"
  }
 },
 "nbformat": 4,
 "nbformat_minor": 5
}
